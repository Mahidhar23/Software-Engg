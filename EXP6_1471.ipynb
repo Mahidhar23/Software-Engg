{
  "nbformat": 4,
  "nbformat_minor": 0,
  "metadata": {
    "colab": {
      "provenance": [],
      "authorship_tag": "ABX9TyOHLjPGgjshzlFvOmX0pdXD",
      "include_colab_link": true
    },
    "kernelspec": {
      "name": "python3",
      "display_name": "Python 3"
    },
    "language_info": {
      "name": "python"
    }
  },
  "cells": [
    {
      "cell_type": "markdown",
      "metadata": {
        "id": "view-in-github",
        "colab_type": "text"
      },
      "source": [
        "<a href=\"https://colab.research.google.com/github/Mahidhar23/Software-Engg/blob/main/EXP6_1471.ipynb\" target=\"_parent\"><img src=\"https://colab.research.google.com/assets/colab-badge.svg\" alt=\"Open In Colab\"/></a>"
      ]
    },
    {
      "cell_type": "code",
      "execution_count": 1,
      "metadata": {
        "colab": {
          "base_uri": "https://localhost:8080/"
        },
        "id": "iID0C2xS_txa",
        "outputId": "9478101e-6e95-460c-c344-42833ebfaa6a"
      },
      "outputs": [
        {
          "output_type": "stream",
          "name": "stdout",
          "text": [
            "{'Effort (Person-Months)': 28.7, 'Time (Months)': 9.63, 'Team Size (Avg Developers)': 2.98}\n"
          ]
        }
      ],
      "source": [
        "def cocomo_basic(kloc, project_type):\n",
        "    cocomo_params = {\n",
        "        \"organic\": (2.5, 1.06, 2.6, 0.39),\n",
        "        \"semi-detached\": (3.2, 1.13, 2.7, 0.36),\n",
        "        \"embedded\": (3.8, 1.21, 2.8, 0.33)\n",
        "    }\n",
        "\n",
        "    if project_type.lower() not in cocomo_params:\n",
        "        return \"Invalid project type! Choose from: organic, semi-detached, embedded.\"\n",
        "\n",
        "    a, b, c, d = cocomo_params[project_type.lower()]\n",
        "\n",
        "    effort = a * (kloc ** b)\n",
        "    time = c * (effort ** d)\n",
        "\n",
        "    avg_team_size = effort / time\n",
        "\n",
        "    return {\n",
        "        \"Effort (Person-Months)\": round(effort, 2),\n",
        "        \"Time (Months)\": round(time, 2),\n",
        "        \"Team Size (Avg Developers)\": round(avg_team_size, 2)\n",
        "    }\n",
        "\n",
        "# Example\n",
        "kloc = 10\n",
        "project_type = \"organic\"\n",
        "\n",
        "result = cocomo_basic(kloc, project_type)\n",
        "print(result)"
      ]
    }
  ]
}