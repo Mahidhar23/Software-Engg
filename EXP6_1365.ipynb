{
  "nbformat": 4,
  "nbformat_minor": 0,
  "metadata": {
    "colab": {
      "provenance": [],
      "authorship_tag": "ABX9TyNhRoRYHH1ZEfIhSeMtV3h2",
      "include_colab_link": true
    },
    "kernelspec": {
      "name": "python3",
      "display_name": "Python 3"
    },
    "language_info": {
      "name": "python"
    }
  },
  "cells": [
    {
      "cell_type": "markdown",
      "metadata": {
        "id": "view-in-github",
        "colab_type": "text"
      },
      "source": [
        "<a href=\"https://colab.research.google.com/github/Mahidhar23/Software-Engg/blob/main/EXP6_1365.ipynb\" target=\"_parent\"><img src=\"https://colab.research.google.com/assets/colab-badge.svg\" alt=\"Open In Colab\"/></a>"
      ]
    },
    {
      "cell_type": "code",
      "execution_count": 1,
      "metadata": {
        "colab": {
          "base_uri": "https://localhost:8080/"
        },
        "id": "kIfIYl3PlH21",
        "outputId": "da20cb36-2a5a-429a-9596-4b7d83b09686"
      },
      "outputs": [
        {
          "output_type": "stream",
          "name": "stdout",
          "text": [
            "{'Effort (Person-Months)': 74.51, 'Time (Months)': 13.8, 'Team Size (Avg Developers)': 5.4}\n"
          ]
        }
      ],
      "source": [
        "def cocomo_basic(kloc, project_type):\n",
        "    cocomo_params = {\n",
        "        \"organic\": (2.6, 1.07, 2.7, 0.40),\n",
        "        \"semi-detached\": (3.4, 1.14, 2.8, 0.37),\n",
        "        \"embedded\": (4.0, 1.22, 2.9, 0.34)\n",
        "    }\n",
        "\n",
        "    if project_type.lower() not in cocomo_params:\n",
        "        return \"Invalid project type! Choose from: organic, semi-detached, embedded.\"\n",
        "\n",
        "    a, b, c, d = cocomo_params[project_type.lower()]\n",
        "\n",
        "    effort = a * (kloc ** b)\n",
        "    time = c * (effort ** d)\n",
        "\n",
        "    avg_team_size = effort / time\n",
        "\n",
        "    return {\n",
        "        \"Effort (Person-Months)\": round(effort, 2),\n",
        "        \"Time (Months)\": round(time, 2),\n",
        "        \"Team Size (Avg Developers)\": round(avg_team_size, 2)\n",
        "    }\n",
        "\n",
        "# Example\n",
        "kloc = 15\n",
        "project_type = \"semi-detached\"\n",
        "\n",
        "result = cocomo_basic(kloc, project_type)\n",
        "print(result)"
      ]
    }
  ]
}